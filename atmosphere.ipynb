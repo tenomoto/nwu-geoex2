{
 "cells": [
  {
   "cell_type": "markdown",
   "metadata": {},
   "source": [
    "# 地学実験II 〜大気の運動を理解するための計算機実習〜\n",
    "## 京都大学防災研究所 榎本剛\n",
    "## 2017年8月21〜22日"
   ]
  },
  {
   "cell_type": "markdown",
   "metadata": {},
   "source": [
    "## 実習1 地球大気の成り立ちと大気大循環"
   ]
  },
  {
   "cell_type": "markdown",
   "metadata": {},
   "source": [
    "### 地球大気の鉛直構造\n",
    "地球大気は，下から対流圏（troposphere），成層圏（stratosphere），中間圏（mesosphere），熱圏（thermosphere）に分けられる。\n",
    "高度約11~kmまでを対流圏と呼び，気温は1~kmつき6.5$^\\circ$C下がる。\n",
    "対流圏では，空気は上下によくかき混ぜられている。\n",
    "成層圏下部では気温の高度変化が少なく，高度20~kmから約50~kmではオゾンが紫外線を吸収するために，気温が高さとともに上昇している。\n",
    "対流圏，成層圏，中間圏の上端をそれぞれ対流圏界面（tropopause），成層圏界面（stratopause），中間圏界面（mesopause）と呼ぶ。\n",
    "\n",
    "国際（米国）標準大気に基づいて気温の高度分布を描いてみよう。"
   ]
  },
  {
   "cell_type": "code",
   "execution_count": 1,
   "metadata": {},
   "outputs": [
    {
     "data": {
      "image/png": "[encoded data removed]",
      "text/plain": [
       "<matplotlib.figure.Figure at 0x108caa5c0>"
      ]
     },
     "metadata": {},
     "output_type": "display_data"
    }
   ],
   "source": [
    "import matplotlib.pyplot as plt\n",
    "T = [15.0, -56.5, -56.5, -44.5, -2.5, -2.5, -58.5, -86.2]\n",
    "h = [0., 11, 20., 32., 47, 51., 71, 84.852]\n",
    "plt.plot(T, h)\n",
    "plt.show()"
   ]
  },
  {
   "cell_type": "markdown",
   "metadata": {},
   "source": [
    "### 地球大気の組成\n",
    "地球大気の組成を次の表に示す。この表にある数値から乾燥大気の平均分子量を計算してみよう。"
   ]
  },
  {
   "cell_type": "markdown",
   "metadata": {},
   "source": [
    "|成分| 分子量| 容積比|重量比|\n",
    "|:---|:---:|:----:|:---:|\n",
    "|窒素 N$_2$| 28.013| 78.08%|75.53%|\n",
    "|酸素 O$_2$| 32.000| 20.95%|23.15%|\n",
    "|アルゴン A$_\\mathrm{r}$| 39.95| 0.93%|1.283%|\n",
    "|**水蒸気 H$_2$O**| 18.02| 0〜5%|0〜3%|\n",
    "|**二酸化炭素 CO$_2$**| 44.01| 380 ppm|557 ppm|\n",
    "|ネオン N$_\\mathrm{e}$| 20.18| 18 ppm|12.5 ppm|\n",
    "|ヘリウム H$_\\mathrm{e}$| 4.00| 5 ppm|0.7 ppm|\n",
    "|**メタン CH$_4$**| 16.04| 1.75 ppm|0.944 ppm|\n",
    "|クリプトン K$_\\mathrm{r}$| 83.80| 1 ppm|3 ppm|\n",
    "|水素 H$_2$| 2.02| 0.5 ppm|0.03 ppm|\n",
    "|**亜酸化窒素 N$_2$O**| 56.03| 0.3 ppm|0.6 ppm|\n",
    "|**オゾン O$_3$**| 48.00| 0〜0.1 ppm|0〜0.2 ppm|"
   ]
  },
  {
   "cell_type": "markdown",
   "metadata": {},
   "source": [
    "平均分子量は重量比を$m$，分子量を$M$とすると\n",
    "$$\n",
    "\\bar{M} = \\frac{\\sum_i m_i}{\\sum_i m_i/M_i}\n",
    "$$\n",
    "と定義される。$\\sum_i m_i = 1$ kgに対して，上位3つの成分の分子量をそれぞれ28, 32, 40とし重量比が75.5%, 23.2%, 1.3%とすると次のように計算される。"
   ]
  },
  {
   "cell_type": "code",
   "execution_count": 2,
   "metadata": {},
   "outputs": [
    {
     "data": {
      "text/plain": [
       "28.952538517216418"
      ]
     },
     "execution_count": 2,
     "metadata": {},
     "output_type": "execute_result"
    }
   ],
   "source": [
    "1/(0.755/28 + 0.232/32 + 0.013/40)"
   ]
  },
  {
   "cell_type": "markdown",
   "metadata": {},
   "source": [
    "平均分子量の定義の分母がキロモル分子量$n=m/M$であることに着目すると\n",
    "$$\n",
    "\\bar{M} = \\frac{\\sum_i n_i M_i}{\\sum_i n_i}\n",
    "$$\n",
    "$\\sum_i n_i=1$ molに対する$n_i$は容積比を表すので，平均分子量は分子量を容積比で重み付き平均したものになる。上位3つの成分の容積比がそれぞれ78%, 21%, 1%とすると次のように計算できる。"
   ]
  },
  {
   "cell_type": "code",
   "execution_count": 3,
   "metadata": {},
   "outputs": [
    {
     "data": {
      "text/plain": [
       "28.959999999999997"
      ]
     },
     "execution_count": 3,
     "metadata": {},
     "output_type": "execute_result"
    }
   ],
   "source": [
    "28 * 0.78 + 32 * 0.21 + 40 * 0.01 "
   ]
  },
  {
   "cell_type": "markdown",
   "metadata": {},
   "source": [
    "### 太陽放射と地球放射\n",
    "入ってきた全ての放射を完全に吸収する仮想的な物体を黒体（black body）と呼ぶ。\n",
    "次に示すWienの変位則は，黒体放射の極大値をとる波長が温度とともに短くなることを示す。\n",
    "$$\n",
    "\\lambda_\\mathrm{m}T = 2897\n",
    "$$\n",
    "太陽放射の極大値が0.5$\\mu$mであるとすると太陽の温度は"
   ]
  },
  {
   "cell_type": "code",
   "execution_count": 4,
   "metadata": {},
   "outputs": [
    {
     "data": {
      "text/plain": [
       "5794.0"
      ]
     },
     "execution_count": 4,
     "metadata": {},
     "output_type": "execute_result"
    }
   ],
   "source": [
    "def calc_T_wien(l):\n",
    "    lT = 2897\n",
    "    return lT / l\n",
    "calc_T_wien(0.5)"
   ]
  },
  {
   "cell_type": "markdown",
   "metadata": {},
   "source": [
    "Wienの変位則は次のPlanck函数から求めたものである。\n",
    "$$\n",
    "B_{\\lambda}(T) = \\frac{c_1}{\\lambda^5\\pi(\\exp(c_2/\\lambda T) - 1)}\n",
    "$$\n",
    "ここで$c_1 = 2\\pi c^2h$Wm$^2$, $c_2 = chk^{-1}$mK, 光速$c = 2.998\\times 10^8$ms$^{-1}$, Planck定数$h = 6.626\\times 10^{-34}$Js, Boltzmann定数$k = 1.381\\times 10^{-23}$JK$^{-1}$である。\n",
    "波長$\\lambda$に対して$\\lambda B_\\lambda(T)$を描いてみよう。"
   ]
  },
  {
   "cell_type": "code",
   "execution_count": 5,
   "metadata": {},
   "outputs": [
    {
     "name": "stdout",
     "output_type": "stream",
     "text": [
      "17202714.1756 56.0440591025 306949.825745\n"
     ]
    },
    {
     "data": {
      "image/png": "[encoded data removed]",
      "text/plain": [
       "<matplotlib.figure.Figure at 0x108c85ba8>"
      ]
     },
     "metadata": {},
     "output_type": "display_data"
    }
   ],
   "source": [
    "from scipy.constants import pi, c, h, k\n",
    "import numpy as np\n",
    "import matplotlib.pyplot as plt\n",
    "\n",
    "def l_planck_func(l, T):\n",
    "    c1 = 2 * pi * c**2 * h \n",
    "    c2 = c * h / k\n",
    "    return c1 * l**-4 / (pi * (np.exp(c2/(l * T))-1))\n",
    "\n",
    "l = np.logspace(-1, 2)\n",
    "lw = l_planck_func(l * 1e-6, 255)\n",
    "sw = l_planck_func(l * 1e-6, 6000)\n",
    "print(sw.max(), lw.max(), sw.max()/lw.max())\n",
    "\n",
    "lw = lw / lw.max()\n",
    "sw = sw / sw.max()\n",
    "\n",
    "plt.semilogx(l, lw)\n",
    "plt.semilogx(l, sw)\n",
    "\n",
    "plt.show()"
   ]
  },
  {
   "cell_type": "markdown",
   "metadata": {},
   "source": [
    "この黒体スペクトルは最大値で規格化されている。\n",
    "太陽放射に対する最大値は30万倍以上大きいことが分かる。"
   ]
  }
 ],
 "metadata": {
  "kernelspec": {
   "display_name": "Python 3",
   "language": "python",
   "name": "python3"
  },
  "language_info": {
   "codemirror_mode": {
    "name": "ipython",
    "version": 3
   },
   "file_extension": ".py",
   "mimetype": "text/x-python",
   "name": "python",
   "nbconvert_exporter": "python",
   "pygments_lexer": "ipython3",
   "version": "3.6.1"
  }
 },
 "nbformat": 4,
 "nbformat_minor": 2
}